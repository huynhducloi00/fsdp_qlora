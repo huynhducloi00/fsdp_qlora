{
 "cells": [
  {
   "cell_type": "code",
   "execution_count": 2,
   "id": "a976bf43-4947-497d-8bf2-2995073c79cc",
   "metadata": {},
   "outputs": [
    {
     "name": "stdout",
     "output_type": "stream",
     "text": [
      "ab\n"
     ]
    },
    {
     "name": "stderr",
     "output_type": "stream",
     "text": [
      "No traceback available to show.\n"
     ]
    }
   ],
   "source": [
    "print('ab')"
   ]
  },
  {
   "cell_type": "code",
   "execution_count": null,
   "id": "a5d4a3c9-81c0-4c9f-8679-14d6722b6b60",
   "metadata": {},
   "outputs": [],
   "source": [
    "def a:\n",
    "asda\n",
    "\n"
   ]
  },
  {
   "cell_type": "code",
   "execution_count": null,
   "id": "bc8db1b8-2653-4b52-ae4a-943bcf81e347",
   "metadata": {},
   "outputs": [],
   "source": []
  },
  {
   "cell_type": "code",
   "execution_count": null,
   "id": "baa7529a-a6f4-4a5e-9c0b-13ac06d4c944",
   "metadata": {},
   "outputs": [],
   "source": []
  }
 ],
 "metadata": {
  "kernelspec": {
   "display_name": "Python 3.11 (XPython)",
   "language": "python",
   "name": "xpython"
  },
  "language_info": {
   "file_extension": ".py",
   "mimetype": "text/x-python",
   "name": "python",
   "version": "3.11.7"
  }
 },
 "nbformat": 4,
 "nbformat_minor": 5
}
